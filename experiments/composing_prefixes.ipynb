{
 "cells": [
  {
   "cell_type": "markdown",
   "metadata": {},
   "source": [
    "# Composing Prefixes\n",
    "\n",
    "This is a preliminary experiment for composing the Prefix Controllers"
   ]
  },
  {
   "cell_type": "code",
   "execution_count": 1,
   "metadata": {},
   "outputs": [],
   "source": [
    "%load_ext autoreload\n",
    "%autoreload 2"
   ]
  },
  {
   "cell_type": "code",
   "execution_count": 2,
   "metadata": {},
   "outputs": [],
   "source": [
    "import sys\n",
    "sys.path.append(\"../\")\n",
    "sys.path.append(\"../../\")"
   ]
  },
  {
   "cell_type": "code",
   "execution_count": 6,
   "metadata": {},
   "outputs": [],
   "source": [
    "import os\n",
    "import gc\n",
    "import time\n",
    "from self_control.utils import get_suffix_grads_from_wrapped_model\n",
    "# os.environ[\"CUDA_VISIBLE_DEVICES\"]=\"6\"\n",
    "os.environ['CUDA_LAUNCH_BLOCKING'] = '1'\n",
    "from itertools import islice\n",
    "import torch\n",
    "from tqdm import tqdm\n",
    "import json\n",
    "import numpy as np\n",
    "import matplotlib.pyplot as plt\n",
    "from transformers import AutoModelForCausalLM, AutoTokenizer, pipeline\n",
    "from self_control.suffix_gradient import WrappedReadingVecModel\n",
    "import torch.nn.functional as F\n",
    "from peft import AdaptionPromptConfig, get_peft_model, LoraModel, LoraConfig\n",
    "import torch.nn as nn"
   ]
  },
  {
   "cell_type": "code",
   "execution_count": 5,
   "metadata": {},
   "outputs": [],
   "source": [
    "from transformers import BitsAndBytesConfig\n",
    "from peft import PeftModel, PeftConfig, get_peft_model, PromptTuningConfig, AdaptionPromptConfig, TaskType, PromptTuningInit, PeftMixedModel, set_peft_model_state_dict\n",
    "\n",
    "llama_adapter_config = AdaptionPromptConfig(\n",
    "    adapter_len=128,\n",
    "    adapter_layers=32,\n",
    "    task_type=\"CAUSAL_LM\",\n",
    "    target_modules=\"self_attn\"\n",
    ")"
   ]
  },
  {
   "cell_type": "code",
   "execution_count": 6,
   "metadata": {},
   "outputs": [
    {
     "data": {
      "application/vnd.jupyter.widget-view+json": {
       "model_id": "c267d059025a432db7b78f3c3b63c88e",
       "version_major": 2,
       "version_minor": 0
      },
      "text/plain": [
       "Loading checkpoint shards:   0%|          | 0/2 [00:00<?, ?it/s]"
      ]
     },
     "metadata": {},
     "output_type": "display_data"
    }
   ],
   "source": [
    "model_name_or_path = \"meta-llama/Llama-2-7b-chat-hf\"\n",
    "model = AutoModelForCausalLM.from_pretrained(model_name_or_path, torch_dtype=torch.bfloat16, device_map=\"cuda:4\")\n",
    "use_fast_tokenizer = \"LlamaForCausalLM\" not in model.config.architectures\n",
    "tokenizer = AutoTokenizer.from_pretrained(model_name_or_path, padding_side='left')\n",
    "tokenizer.pad_token_id = 0 if tokenizer.pad_token_id is None else tokenizer.pad_token_id\n",
    "tokenizer.bos_token_id = 1"
   ]
  },
  {
   "cell_type": "code",
   "execution_count": 7,
   "metadata": {},
   "outputs": [],
   "source": [
    "peft_model = get_peft_model(model, llama_adapter_config)"
   ]
  },
  {
   "cell_type": "code",
   "execution_count": 2,
   "metadata": {},
   "outputs": [],
   "source": [
    "mistral_prefix_dict = {\n",
    "    \"surprised\": \"../adapters/calm2surprised-final-mistralprefix+adapter-50-0.003/prefix_embedder.pth\",\n",
    "    \"reasoning\": \"../adapters/reasoning-smallernorm-final-gogogoprefix+adapter-50-0.003/prefix_embedder.pth\"\n",
    "}\n",
    "mistral_adapter_dict = {\n",
    "    \"surprised\": \"../adapters/calm2surprised-final-mistralprefix+adapter-50-0.003/adapter_model.safetensors\",\n",
    "    \"reasoning\": \"../adapters/reasoning-smallernorm-final-gogogoprefix+adapter-50-0.003/adapter_model.safetensors\"\n",
    "}"
   ]
  },
  {
   "cell_type": "code",
   "execution_count": 40,
   "metadata": {},
   "outputs": [],
   "source": [
    "from safetensors import safe_open\n",
    "composited_adapter = {}\n",
    "composited_embedder = {}\n",
    "adaption_list = []\n",
    "prefix_list = []\n",
    "compose_dict = {\n",
    "    \"surprised\": 0.4,\n",
    "    \"reasoning\": 0.6\n",
    "}\n",
    "coeff_list = [0.4, 0.6]\n",
    "for key in compose_dict:\n",
    "    temp_tensors = {}\n",
    "    with safe_open(mistral_adapter_dict[key], framework=\"pt\", device=4) as f:\n",
    "        for k in f.keys():\n",
    "            temp_tensors[k] = f.get_tensor(k)\n",
    "    adaption_list.append(temp_tensors)\n",
    "    temp_embedder = torch.load(mistral_prefix_dict[key])\n",
    "    prefix_list.append(temp_embedder)\n",
    "\n",
    "for key in adaption_list[0]:\n",
    "    composited_adapter[key] = adaption_list[0][key] * coeff_list[0] + adaption_list[1][key] * coeff_list[1]\n",
    "for key in prefix_list[0]:\n",
    "    composited_embedder[key] = prefix_list[0][key] * coeff_list[0] + prefix_list[1][key] * coeff_list[1]\n"
   ]
  },
  {
   "cell_type": "code",
   "execution_count": 41,
   "metadata": {},
   "outputs": [],
   "source": [
    "dot_token_ids = [tokenizer.convert_tokens_to_ids(\".\")]\n",
    "prefix_token_ids = tokenizer.encode(\"<<SYS>> You are an assistant <</SYS>>\", add_special_tokens=False)\n",
    "prefix_token_ids = torch.tensor(prefix_token_ids + dot_token_ids * 5).unsqueeze(dim=0)\n",
    "peft_model.prefix_embedder = nn.Embedding(num_embeddings=prefix_token_ids.size(1), embedding_dim=model.config.hidden_size)"
   ]
  },
  {
   "cell_type": "markdown",
   "metadata": {},
   "source": [
    "### Set params"
   ]
  },
  {
   "cell_type": "code",
   "execution_count": 42,
   "metadata": {},
   "outputs": [
    {
     "data": {
      "text/plain": [
       "<All keys matched successfully>"
      ]
     },
     "execution_count": 42,
     "metadata": {},
     "output_type": "execute_result"
    }
   ],
   "source": [
    "peft_model.prefix_embedder.load_state_dict(composited_embedder)"
   ]
  },
  {
   "cell_type": "code",
   "execution_count": 43,
   "metadata": {},
   "outputs": [
    {
     "data": {
      "text/plain": [
       "_IncompatibleKeys(missing_keys=['base_model.model.model.embed_tokens.weight', 'base_model.model.model.layers.0.self_attn.model.q_proj.weight', 'base_model.model.model.layers.0.self_attn.model.k_proj.weight', 'base_model.model.model.layers.0.self_attn.model.v_proj.weight', 'base_model.model.model.layers.0.self_attn.model.o_proj.weight', 'base_model.model.model.layers.0.mlp.gate_proj.weight', 'base_model.model.model.layers.0.mlp.up_proj.weight', 'base_model.model.model.layers.0.mlp.down_proj.weight', 'base_model.model.model.layers.0.input_layernorm.weight', 'base_model.model.model.layers.0.post_attention_layernorm.weight', 'base_model.model.model.layers.1.self_attn.model.q_proj.weight', 'base_model.model.model.layers.1.self_attn.model.k_proj.weight', 'base_model.model.model.layers.1.self_attn.model.v_proj.weight', 'base_model.model.model.layers.1.self_attn.model.o_proj.weight', 'base_model.model.model.layers.1.mlp.gate_proj.weight', 'base_model.model.model.layers.1.mlp.up_proj.weight', 'base_model.model.model.layers.1.mlp.down_proj.weight', 'base_model.model.model.layers.1.input_layernorm.weight', 'base_model.model.model.layers.1.post_attention_layernorm.weight', 'base_model.model.model.layers.2.self_attn.model.q_proj.weight', 'base_model.model.model.layers.2.self_attn.model.k_proj.weight', 'base_model.model.model.layers.2.self_attn.model.v_proj.weight', 'base_model.model.model.layers.2.self_attn.model.o_proj.weight', 'base_model.model.model.layers.2.mlp.gate_proj.weight', 'base_model.model.model.layers.2.mlp.up_proj.weight', 'base_model.model.model.layers.2.mlp.down_proj.weight', 'base_model.model.model.layers.2.input_layernorm.weight', 'base_model.model.model.layers.2.post_attention_layernorm.weight', 'base_model.model.model.layers.3.self_attn.model.q_proj.weight', 'base_model.model.model.layers.3.self_attn.model.k_proj.weight', 'base_model.model.model.layers.3.self_attn.model.v_proj.weight', 'base_model.model.model.layers.3.self_attn.model.o_proj.weight', 'base_model.model.model.layers.3.mlp.gate_proj.weight', 'base_model.model.model.layers.3.mlp.up_proj.weight', 'base_model.model.model.layers.3.mlp.down_proj.weight', 'base_model.model.model.layers.3.input_layernorm.weight', 'base_model.model.model.layers.3.post_attention_layernorm.weight', 'base_model.model.model.layers.4.self_attn.model.q_proj.weight', 'base_model.model.model.layers.4.self_attn.model.k_proj.weight', 'base_model.model.model.layers.4.self_attn.model.v_proj.weight', 'base_model.model.model.layers.4.self_attn.model.o_proj.weight', 'base_model.model.model.layers.4.mlp.gate_proj.weight', 'base_model.model.model.layers.4.mlp.up_proj.weight', 'base_model.model.model.layers.4.mlp.down_proj.weight', 'base_model.model.model.layers.4.input_layernorm.weight', 'base_model.model.model.layers.4.post_attention_layernorm.weight', 'base_model.model.model.layers.5.self_attn.model.q_proj.weight', 'base_model.model.model.layers.5.self_attn.model.k_proj.weight', 'base_model.model.model.layers.5.self_attn.model.v_proj.weight', 'base_model.model.model.layers.5.self_attn.model.o_proj.weight', 'base_model.model.model.layers.5.mlp.gate_proj.weight', 'base_model.model.model.layers.5.mlp.up_proj.weight', 'base_model.model.model.layers.5.mlp.down_proj.weight', 'base_model.model.model.layers.5.input_layernorm.weight', 'base_model.model.model.layers.5.post_attention_layernorm.weight', 'base_model.model.model.layers.6.self_attn.model.q_proj.weight', 'base_model.model.model.layers.6.self_attn.model.k_proj.weight', 'base_model.model.model.layers.6.self_attn.model.v_proj.weight', 'base_model.model.model.layers.6.self_attn.model.o_proj.weight', 'base_model.model.model.layers.6.mlp.gate_proj.weight', 'base_model.model.model.layers.6.mlp.up_proj.weight', 'base_model.model.model.layers.6.mlp.down_proj.weight', 'base_model.model.model.layers.6.input_layernorm.weight', 'base_model.model.model.layers.6.post_attention_layernorm.weight', 'base_model.model.model.layers.7.self_attn.model.q_proj.weight', 'base_model.model.model.layers.7.self_attn.model.k_proj.weight', 'base_model.model.model.layers.7.self_attn.model.v_proj.weight', 'base_model.model.model.layers.7.self_attn.model.o_proj.weight', 'base_model.model.model.layers.7.mlp.gate_proj.weight', 'base_model.model.model.layers.7.mlp.up_proj.weight', 'base_model.model.model.layers.7.mlp.down_proj.weight', 'base_model.model.model.layers.7.input_layernorm.weight', 'base_model.model.model.layers.7.post_attention_layernorm.weight', 'base_model.model.model.layers.8.self_attn.model.q_proj.weight', 'base_model.model.model.layers.8.self_attn.model.k_proj.weight', 'base_model.model.model.layers.8.self_attn.model.v_proj.weight', 'base_model.model.model.layers.8.self_attn.model.o_proj.weight', 'base_model.model.model.layers.8.mlp.gate_proj.weight', 'base_model.model.model.layers.8.mlp.up_proj.weight', 'base_model.model.model.layers.8.mlp.down_proj.weight', 'base_model.model.model.layers.8.input_layernorm.weight', 'base_model.model.model.layers.8.post_attention_layernorm.weight', 'base_model.model.model.layers.9.self_attn.model.q_proj.weight', 'base_model.model.model.layers.9.self_attn.model.k_proj.weight', 'base_model.model.model.layers.9.self_attn.model.v_proj.weight', 'base_model.model.model.layers.9.self_attn.model.o_proj.weight', 'base_model.model.model.layers.9.mlp.gate_proj.weight', 'base_model.model.model.layers.9.mlp.up_proj.weight', 'base_model.model.model.layers.9.mlp.down_proj.weight', 'base_model.model.model.layers.9.input_layernorm.weight', 'base_model.model.model.layers.9.post_attention_layernorm.weight', 'base_model.model.model.layers.10.self_attn.model.q_proj.weight', 'base_model.model.model.layers.10.self_attn.model.k_proj.weight', 'base_model.model.model.layers.10.self_attn.model.v_proj.weight', 'base_model.model.model.layers.10.self_attn.model.o_proj.weight', 'base_model.model.model.layers.10.mlp.gate_proj.weight', 'base_model.model.model.layers.10.mlp.up_proj.weight', 'base_model.model.model.layers.10.mlp.down_proj.weight', 'base_model.model.model.layers.10.input_layernorm.weight', 'base_model.model.model.layers.10.post_attention_layernorm.weight', 'base_model.model.model.layers.11.self_attn.model.q_proj.weight', 'base_model.model.model.layers.11.self_attn.model.k_proj.weight', 'base_model.model.model.layers.11.self_attn.model.v_proj.weight', 'base_model.model.model.layers.11.self_attn.model.o_proj.weight', 'base_model.model.model.layers.11.mlp.gate_proj.weight', 'base_model.model.model.layers.11.mlp.up_proj.weight', 'base_model.model.model.layers.11.mlp.down_proj.weight', 'base_model.model.model.layers.11.input_layernorm.weight', 'base_model.model.model.layers.11.post_attention_layernorm.weight', 'base_model.model.model.layers.12.self_attn.model.q_proj.weight', 'base_model.model.model.layers.12.self_attn.model.k_proj.weight', 'base_model.model.model.layers.12.self_attn.model.v_proj.weight', 'base_model.model.model.layers.12.self_attn.model.o_proj.weight', 'base_model.model.model.layers.12.mlp.gate_proj.weight', 'base_model.model.model.layers.12.mlp.up_proj.weight', 'base_model.model.model.layers.12.mlp.down_proj.weight', 'base_model.model.model.layers.12.input_layernorm.weight', 'base_model.model.model.layers.12.post_attention_layernorm.weight', 'base_model.model.model.layers.13.self_attn.model.q_proj.weight', 'base_model.model.model.layers.13.self_attn.model.k_proj.weight', 'base_model.model.model.layers.13.self_attn.model.v_proj.weight', 'base_model.model.model.layers.13.self_attn.model.o_proj.weight', 'base_model.model.model.layers.13.mlp.gate_proj.weight', 'base_model.model.model.layers.13.mlp.up_proj.weight', 'base_model.model.model.layers.13.mlp.down_proj.weight', 'base_model.model.model.layers.13.input_layernorm.weight', 'base_model.model.model.layers.13.post_attention_layernorm.weight', 'base_model.model.model.layers.14.self_attn.model.q_proj.weight', 'base_model.model.model.layers.14.self_attn.model.k_proj.weight', 'base_model.model.model.layers.14.self_attn.model.v_proj.weight', 'base_model.model.model.layers.14.self_attn.model.o_proj.weight', 'base_model.model.model.layers.14.mlp.gate_proj.weight', 'base_model.model.model.layers.14.mlp.up_proj.weight', 'base_model.model.model.layers.14.mlp.down_proj.weight', 'base_model.model.model.layers.14.input_layernorm.weight', 'base_model.model.model.layers.14.post_attention_layernorm.weight', 'base_model.model.model.layers.15.self_attn.model.q_proj.weight', 'base_model.model.model.layers.15.self_attn.model.k_proj.weight', 'base_model.model.model.layers.15.self_attn.model.v_proj.weight', 'base_model.model.model.layers.15.self_attn.model.o_proj.weight', 'base_model.model.model.layers.15.mlp.gate_proj.weight', 'base_model.model.model.layers.15.mlp.up_proj.weight', 'base_model.model.model.layers.15.mlp.down_proj.weight', 'base_model.model.model.layers.15.input_layernorm.weight', 'base_model.model.model.layers.15.post_attention_layernorm.weight', 'base_model.model.model.layers.16.self_attn.model.q_proj.weight', 'base_model.model.model.layers.16.self_attn.model.k_proj.weight', 'base_model.model.model.layers.16.self_attn.model.v_proj.weight', 'base_model.model.model.layers.16.self_attn.model.o_proj.weight', 'base_model.model.model.layers.16.mlp.gate_proj.weight', 'base_model.model.model.layers.16.mlp.up_proj.weight', 'base_model.model.model.layers.16.mlp.down_proj.weight', 'base_model.model.model.layers.16.input_layernorm.weight', 'base_model.model.model.layers.16.post_attention_layernorm.weight', 'base_model.model.model.layers.17.self_attn.model.q_proj.weight', 'base_model.model.model.layers.17.self_attn.model.k_proj.weight', 'base_model.model.model.layers.17.self_attn.model.v_proj.weight', 'base_model.model.model.layers.17.self_attn.model.o_proj.weight', 'base_model.model.model.layers.17.mlp.gate_proj.weight', 'base_model.model.model.layers.17.mlp.up_proj.weight', 'base_model.model.model.layers.17.mlp.down_proj.weight', 'base_model.model.model.layers.17.input_layernorm.weight', 'base_model.model.model.layers.17.post_attention_layernorm.weight', 'base_model.model.model.layers.18.self_attn.model.q_proj.weight', 'base_model.model.model.layers.18.self_attn.model.k_proj.weight', 'base_model.model.model.layers.18.self_attn.model.v_proj.weight', 'base_model.model.model.layers.18.self_attn.model.o_proj.weight', 'base_model.model.model.layers.18.mlp.gate_proj.weight', 'base_model.model.model.layers.18.mlp.up_proj.weight', 'base_model.model.model.layers.18.mlp.down_proj.weight', 'base_model.model.model.layers.18.input_layernorm.weight', 'base_model.model.model.layers.18.post_attention_layernorm.weight', 'base_model.model.model.layers.19.self_attn.model.q_proj.weight', 'base_model.model.model.layers.19.self_attn.model.k_proj.weight', 'base_model.model.model.layers.19.self_attn.model.v_proj.weight', 'base_model.model.model.layers.19.self_attn.model.o_proj.weight', 'base_model.model.model.layers.19.mlp.gate_proj.weight', 'base_model.model.model.layers.19.mlp.up_proj.weight', 'base_model.model.model.layers.19.mlp.down_proj.weight', 'base_model.model.model.layers.19.input_layernorm.weight', 'base_model.model.model.layers.19.post_attention_layernorm.weight', 'base_model.model.model.layers.20.self_attn.model.q_proj.weight', 'base_model.model.model.layers.20.self_attn.model.k_proj.weight', 'base_model.model.model.layers.20.self_attn.model.v_proj.weight', 'base_model.model.model.layers.20.self_attn.model.o_proj.weight', 'base_model.model.model.layers.20.mlp.gate_proj.weight', 'base_model.model.model.layers.20.mlp.up_proj.weight', 'base_model.model.model.layers.20.mlp.down_proj.weight', 'base_model.model.model.layers.20.input_layernorm.weight', 'base_model.model.model.layers.20.post_attention_layernorm.weight', 'base_model.model.model.layers.21.self_attn.model.q_proj.weight', 'base_model.model.model.layers.21.self_attn.model.k_proj.weight', 'base_model.model.model.layers.21.self_attn.model.v_proj.weight', 'base_model.model.model.layers.21.self_attn.model.o_proj.weight', 'base_model.model.model.layers.21.mlp.gate_proj.weight', 'base_model.model.model.layers.21.mlp.up_proj.weight', 'base_model.model.model.layers.21.mlp.down_proj.weight', 'base_model.model.model.layers.21.input_layernorm.weight', 'base_model.model.model.layers.21.post_attention_layernorm.weight', 'base_model.model.model.layers.22.self_attn.model.q_proj.weight', 'base_model.model.model.layers.22.self_attn.model.k_proj.weight', 'base_model.model.model.layers.22.self_attn.model.v_proj.weight', 'base_model.model.model.layers.22.self_attn.model.o_proj.weight', 'base_model.model.model.layers.22.mlp.gate_proj.weight', 'base_model.model.model.layers.22.mlp.up_proj.weight', 'base_model.model.model.layers.22.mlp.down_proj.weight', 'base_model.model.model.layers.22.input_layernorm.weight', 'base_model.model.model.layers.22.post_attention_layernorm.weight', 'base_model.model.model.layers.23.self_attn.model.q_proj.weight', 'base_model.model.model.layers.23.self_attn.model.k_proj.weight', 'base_model.model.model.layers.23.self_attn.model.v_proj.weight', 'base_model.model.model.layers.23.self_attn.model.o_proj.weight', 'base_model.model.model.layers.23.mlp.gate_proj.weight', 'base_model.model.model.layers.23.mlp.up_proj.weight', 'base_model.model.model.layers.23.mlp.down_proj.weight', 'base_model.model.model.layers.23.input_layernorm.weight', 'base_model.model.model.layers.23.post_attention_layernorm.weight', 'base_model.model.model.layers.24.self_attn.model.q_proj.weight', 'base_model.model.model.layers.24.self_attn.model.k_proj.weight', 'base_model.model.model.layers.24.self_attn.model.v_proj.weight', 'base_model.model.model.layers.24.self_attn.model.o_proj.weight', 'base_model.model.model.layers.24.mlp.gate_proj.weight', 'base_model.model.model.layers.24.mlp.up_proj.weight', 'base_model.model.model.layers.24.mlp.down_proj.weight', 'base_model.model.model.layers.24.input_layernorm.weight', 'base_model.model.model.layers.24.post_attention_layernorm.weight', 'base_model.model.model.layers.25.self_attn.model.q_proj.weight', 'base_model.model.model.layers.25.self_attn.model.k_proj.weight', 'base_model.model.model.layers.25.self_attn.model.v_proj.weight', 'base_model.model.model.layers.25.self_attn.model.o_proj.weight', 'base_model.model.model.layers.25.mlp.gate_proj.weight', 'base_model.model.model.layers.25.mlp.up_proj.weight', 'base_model.model.model.layers.25.mlp.down_proj.weight', 'base_model.model.model.layers.25.input_layernorm.weight', 'base_model.model.model.layers.25.post_attention_layernorm.weight', 'base_model.model.model.layers.26.self_attn.model.q_proj.weight', 'base_model.model.model.layers.26.self_attn.model.k_proj.weight', 'base_model.model.model.layers.26.self_attn.model.v_proj.weight', 'base_model.model.model.layers.26.self_attn.model.o_proj.weight', 'base_model.model.model.layers.26.mlp.gate_proj.weight', 'base_model.model.model.layers.26.mlp.up_proj.weight', 'base_model.model.model.layers.26.mlp.down_proj.weight', 'base_model.model.model.layers.26.input_layernorm.weight', 'base_model.model.model.layers.26.post_attention_layernorm.weight', 'base_model.model.model.layers.27.self_attn.model.q_proj.weight', 'base_model.model.model.layers.27.self_attn.model.k_proj.weight', 'base_model.model.model.layers.27.self_attn.model.v_proj.weight', 'base_model.model.model.layers.27.self_attn.model.o_proj.weight', 'base_model.model.model.layers.27.mlp.gate_proj.weight', 'base_model.model.model.layers.27.mlp.up_proj.weight', 'base_model.model.model.layers.27.mlp.down_proj.weight', 'base_model.model.model.layers.27.input_layernorm.weight', 'base_model.model.model.layers.27.post_attention_layernorm.weight', 'base_model.model.model.layers.28.self_attn.model.q_proj.weight', 'base_model.model.model.layers.28.self_attn.model.k_proj.weight', 'base_model.model.model.layers.28.self_attn.model.v_proj.weight', 'base_model.model.model.layers.28.self_attn.model.o_proj.weight', 'base_model.model.model.layers.28.mlp.gate_proj.weight', 'base_model.model.model.layers.28.mlp.up_proj.weight', 'base_model.model.model.layers.28.mlp.down_proj.weight', 'base_model.model.model.layers.28.input_layernorm.weight', 'base_model.model.model.layers.28.post_attention_layernorm.weight', 'base_model.model.model.layers.29.self_attn.model.q_proj.weight', 'base_model.model.model.layers.29.self_attn.model.k_proj.weight', 'base_model.model.model.layers.29.self_attn.model.v_proj.weight', 'base_model.model.model.layers.29.self_attn.model.o_proj.weight', 'base_model.model.model.layers.29.mlp.gate_proj.weight', 'base_model.model.model.layers.29.mlp.up_proj.weight', 'base_model.model.model.layers.29.mlp.down_proj.weight', 'base_model.model.model.layers.29.input_layernorm.weight', 'base_model.model.model.layers.29.post_attention_layernorm.weight', 'base_model.model.model.layers.30.self_attn.model.q_proj.weight', 'base_model.model.model.layers.30.self_attn.model.k_proj.weight', 'base_model.model.model.layers.30.self_attn.model.v_proj.weight', 'base_model.model.model.layers.30.self_attn.model.o_proj.weight', 'base_model.model.model.layers.30.mlp.gate_proj.weight', 'base_model.model.model.layers.30.mlp.up_proj.weight', 'base_model.model.model.layers.30.mlp.down_proj.weight', 'base_model.model.model.layers.30.input_layernorm.weight', 'base_model.model.model.layers.30.post_attention_layernorm.weight', 'base_model.model.model.layers.31.self_attn.model.q_proj.weight', 'base_model.model.model.layers.31.self_attn.model.k_proj.weight', 'base_model.model.model.layers.31.self_attn.model.v_proj.weight', 'base_model.model.model.layers.31.self_attn.model.o_proj.weight', 'base_model.model.model.layers.31.mlp.gate_proj.weight', 'base_model.model.model.layers.31.mlp.up_proj.weight', 'base_model.model.model.layers.31.mlp.down_proj.weight', 'base_model.model.model.layers.31.input_layernorm.weight', 'base_model.model.model.layers.31.post_attention_layernorm.weight', 'base_model.model.model.norm.weight', 'base_model.model.lm_head.weight', 'prefix_embedder.weight'], unexpected_keys=[])"
      ]
     },
     "execution_count": 43,
     "metadata": {},
     "output_type": "execute_result"
    }
   ],
   "source": [
    "set_peft_model_state_dict(peft_model, composited_adapter)"
   ]
  },
  {
   "cell_type": "code",
   "execution_count": 44,
   "metadata": {},
   "outputs": [],
   "source": [
    "from self_control.utils.utils import greedy_decode"
   ]
  },
  {
   "cell_type": "code",
   "execution_count": 33,
   "metadata": {},
   "outputs": [
    {
     "data": {
      "text/plain": [
       "'Of course! To find out how many bolts it takes to make a robe, we need to know the total amount of blue fiber and white fiber required.\\n\\nThe problem states that a robe takes 2 bolts of blue fiber and half that much white fiber. So, if we let \"x\" be the number of bolts of blue fiber, we can write the equation:\\n\\n2x = 2 bolts of blue fiber\\n\\nSince half of the white fiber is also needed, we can write:\\n\\nx/2 = half of the white fiber\\n\\nNow we can substitute these equations into each other to solve for \"x\":\\n\\n2x = 2 bolts of blue fiber\\nx/2 = half of the white fiber\\n\\nx = 4 bolts of white fiber\\n\\nSo, it takes 4 bolts of white fiber to make a robe.\\n\\nI hope this helps! Let me know if you have any other questions.'"
      ]
     },
     "execution_count": 33,
     "metadata": {},
     "output_type": "execute_result"
    }
   ],
   "source": [
    "input_prompt = \"Q: A robe takes 2 bolts of blue fiber and half that much white fiber.  How many bolts in total does it take? I'm afraid I have no idea about that. Can you help me?\\nA:\"\n",
    "tokenized = tokenizer(input_prompt, return_tensors='pt')\n",
    "greedy_decode(peft_model, tokenizer, tokenized[\"input_ids\"].to(model.device), max_length=256)"
   ]
  }
 ],
 "metadata": {
  "kernelspec": {
   "display_name": "explanation",
   "language": "python",
   "name": "python3"
  },
  "language_info": {
   "codemirror_mode": {
    "name": "ipython",
    "version": 3
   },
   "file_extension": ".py",
   "mimetype": "text/x-python",
   "name": "python",
   "nbconvert_exporter": "python",
   "pygments_lexer": "ipython3",
   "version": "3.9.18"
  }
 },
 "nbformat": 4,
 "nbformat_minor": 2
}
