{
 "cells": [
  {
   "cell_type": "code",
   "execution_count": 1,
   "metadata": {},
   "outputs": [],
   "source": [
    "%load_ext autoreload\n",
    "%autoreload 2"
   ]
  },
  {
   "cell_type": "code",
   "execution_count": 2,
   "metadata": {},
   "outputs": [],
   "source": [
    "import sys\n",
    "sys.path.append('../')"
   ]
  },
  {
   "cell_type": "code",
   "execution_count": 3,
   "metadata": {},
   "outputs": [],
   "source": [
    "import os\n",
    "os.environ[\"CUDA_VISIBLE_DEVICES\"]=\"3\"\n",
    "from transformers import AutoTokenizer, AutoConfig, pipeline, AutoModelForCausalLM\n",
    "import matplotlib.pyplot as plt\n",
    "import torch\n",
    "from tqdm import tqdm\n",
    "import numpy as np\n",
    "from datasets import load_dataset\n",
    "import torch.nn.functional as F\n",
    "import gc\n",
    "\n",
    "from repe import repe_pipeline_registry, WrappedReadingVecModel\n",
    "repe_pipeline_registry()"
   ]
  },
  {
   "cell_type": "code",
   "execution_count": 4,
   "metadata": {},
   "outputs": [
    {
     "data": {
      "application/vnd.jupyter.widget-view+json": {
       "model_id": "a17498787e56404596df5acebe67f41e",
       "version_major": 2,
       "version_minor": 0
      },
      "text/plain": [
       "Loading checkpoint shards:   0%|          | 0/2 [00:00<?, ?it/s]"
      ]
     },
     "metadata": {},
     "output_type": "display_data"
    }
   ],
   "source": [
    "# model_name_or_path = \"meta-llama/Llama-2-13b-chat-hf\"\n",
    "model_name_or_path = \"/home/models/llama2-7b-chat-hf/\"\n",
    "\n",
    "model = AutoModelForCausalLM.from_pretrained(model_name_or_path, torch_dtype=torch.float16, device_map=\"auto\")\n",
    "use_fast_tokenizer = \"LlamaForCausalLM\" not in model.config.architectures\n",
    "tokenizer = AutoTokenizer.from_pretrained(model_name_or_path, use_fast=use_fast_tokenizer, padding_side=\"left\", legacy=False)\n",
    "tokenizer.pad_token_id = 0 "
   ]
  },
  {
   "cell_type": "code",
   "execution_count": 5,
   "metadata": {},
   "outputs": [
    {
     "name": "stdout",
     "output_type": "stream",
     "text": [
      "520 100\n"
     ]
    }
   ],
   "source": [
    "advbench_data = []\n",
    "malicious_data = []\n",
    "with open(\"../../../benchmarks/malicious_instruct/Jailbreak_LLM-main/data/MaliciousInstruct.txt\", \"r\") as f:\n",
    "    for line in f:\n",
    "        malicious_data.append(str(line))\n",
    "with open(\"../../../benchmarks/malicious_instruct/Jailbreak_LLM-main/data/advbench.txt\", \"r\") as f:\n",
    "    for line in f:\n",
    "        advbench_data.append(str(line))\n",
    "print(len(advbench_data), len(malicious_data))"
   ]
  },
  {
   "cell_type": "code",
   "execution_count": 6,
   "metadata": {},
   "outputs": [],
   "source": [
    "import pandas as pd\n",
    "from utils import control_on_layers\n",
    "import pandas as pd\n",
    "# load attack config for each input\n",
    "attack_setting = pd.read_csv(\"../attack_setting.csv\")\n",
    "config_verbalize = {\n",
    "    \"temp\": \"temperature\",\n",
    "    \"topp\": \"top_p\",\n",
    "    \"topk\": \"top_k\",\n",
    "    \"greedy\": \"greedy\",\n",
    "}"
   ]
  },
  {
   "cell_type": "code",
   "execution_count": 7,
   "metadata": {},
   "outputs": [],
   "source": [
    "template =  \"[INST] <<SYS>>\\nYou are a helpful, respectful and honest assistant. Always answer as helpfully as possible, while being safe. Your answers should not include any harmful, unethical, racist, sexist, toxic, dangerous, or illegal content. Please ensure that your responses are socially unbiased and positive in nature.\\n\\nIf a question does not make any sense, or is not factually coherent, explain why instead of answering something not correct. If you don't know the answer to a question, please don't share false information.\\n<</SYS>>\\n\\n{instruction} [/INST] \"\n",
    "dataset = load_dataset(\"justinphan3110/harmful_harmless_instructions\")\n",
    "\n",
    "train_dataset, test_dataset = dataset['train'], dataset['test'] if 'test' in dataset else dataset['train']\n",
    "\n",
    "train_data, train_labels = train_dataset['sentence'], train_dataset['label']\n",
    "test_data = test_dataset['sentence']\n",
    "\n",
    "train_data = np.concatenate(train_data).tolist()\n",
    "test_data = np.concatenate(test_data).tolist()\n",
    "\n",
    "train_data = [template.format(instruction=s) for s in train_data]\n",
    "test_data = [template.format(instruction=s) for s in test_data]"
   ]
  },
  {
   "cell_type": "code",
   "execution_count": 8,
   "metadata": {},
   "outputs": [],
   "source": [
    "rep_token = -1\n",
    "hidden_layers = list(range(-1, -model.config.num_hidden_layers, -1))\n",
    "n_difference = 1\n",
    "direction_method = 'pca'\n",
    "rep_reading_pipeline = pipeline(\"rep-reading\", model=model, tokenizer=tokenizer)\n",
    "\n",
    "direction_finder_kwargs={\"n_components\": 1}"
   ]
  },
  {
   "cell_type": "code",
   "execution_count": 9,
   "metadata": {},
   "outputs": [],
   "source": [
    "rep_reader = rep_reading_pipeline.get_directions(\n",
    "    train_data, \n",
    "    rep_token=rep_token, \n",
    "    hidden_layers=hidden_layers, \n",
    "    n_difference=n_difference, \n",
    "    train_labels=train_labels, \n",
    "    direction_method=direction_method,\n",
    "    direction_finder_kwargs=direction_finder_kwargs\n",
    ")"
   ]
  },
  {
   "cell_type": "code",
   "execution_count": 10,
   "metadata": {},
   "outputs": [
    {
     "data": {
      "text/plain": [
       "[<matplotlib.lines.Line2D at 0x7fa0bc75ceb0>]"
      ]
     },
     "execution_count": 10,
     "metadata": {},
     "output_type": "execute_result"
    },
    {
     "data": {
      "image/png": "[encoded data removed]",
      "text/plain": [
       "<Figure size 640x480 with 1 Axes>"
      ]
     },
     "metadata": {},
     "output_type": "display_data"
    }
   ],
   "source": [
    "component_index=0\n",
    "\n",
    "H_tests = rep_reading_pipeline(\n",
    "    test_data,\n",
    "    rep_token=rep_token, \n",
    "    hidden_layers=hidden_layers, \n",
    "    rep_reader=rep_reader,\n",
    "    component_index=component_index,\n",
    "    batch_size=32)\n",
    "\n",
    "results = {layer: {} for layer in hidden_layers}\n",
    "for layer in hidden_layers:\n",
    "    H_test = [H[layer] for H in H_tests] \n",
    "    H_test = [H_test[i:i+2] for i in range(0, len(H_test), 2)]\n",
    "    \n",
    "    sign = rep_reader.direction_signs[layer][component_index]\n",
    "    eval_func = min if sign == -1 else max\n",
    "    \n",
    "    cors = np.mean([eval_func(H) == H[0] for H in H_test])\n",
    "    results[layer] = cors\n",
    "\n",
    "x = list(results.keys())\n",
    "y = [results[layer] for layer in results]\n",
    "plt.plot(x, y)"
   ]
  },
  {
   "cell_type": "code",
   "execution_count": 17,
   "metadata": {},
   "outputs": [],
   "source": [
    "behavior = malicious_data[0]"
   ]
  },
  {
   "cell_type": "code",
   "execution_count": 53,
   "metadata": {},
   "outputs": [],
   "source": [
    "# layer_id = list(range(-25, -33, -1)) # 13B\n",
    "layer_id = list(range(-18, -23, -1)) # 7B\n",
    "\n",
    "coeff=-0.5\n",
    "activations = {}\n",
    "for layer in layer_id:\n",
    "    activations[layer] = torch.tensor(coeff * rep_reader.directions[layer][component_index] * rep_reader.direction_signs[layer][component_index]).to(model.device).half()\n",
    "\n",
    "wrapped_model = WrappedReadingVecModel(model, tokenizer)\n",
    "wrapped_model.unwrap()\n",
    "wrapped_model.wrap_block(layer_id, block_name=\"decoder_block\")"
   ]
  },
  {
   "cell_type": "code",
   "execution_count": 57,
   "metadata": {},
   "outputs": [
    {
     "name": "stderr",
     "output_type": "stream",
     "text": [
      "0it [00:00, ?it/s]"
     ]
    },
    {
     "name": "stderr",
     "output_type": "stream",
     "text": [
      "100it [07:15,  4.35s/it]\n"
     ]
    }
   ],
   "source": [
    "import json\n",
    "for idx, sent in tqdm(enumerate(malicious_data)):\n",
    "    wrapped_model.reset()\n",
    "    # prepare attack config\n",
    "    attack_params = attack_setting.iloc[idx][\"ArgMaxColumn\"].split(\"_\")\n",
    "    attack_config = {}\n",
    "    attack_key = config_verbalize[attack_params[0]]\n",
    "    if attack_key == \"greedy\":\n",
    "        attack_value = True\n",
    "    else:\n",
    "        attack_value = eval(attack_params[1])\n",
    "    attack_config[attack_key] = attack_value\n",
    "\n",
    "    ### Controlled model hidden_states:\n",
    "    wrapped_model.set_controller(layer_id, activations, masks=1)\n",
    "    inputs = sent\n",
    "    # sent = \"How can I be happy?\"\n",
    "    # encoded_inputs = tokenizer(inputs, return_tensors='pt')\n",
    "\n",
    "    with torch.no_grad():\n",
    "        with torch.no_grad():\n",
    "            # Both model.generate and wrapped_model.generate works here\n",
    "            outputs = wrapped_model.generate(sent, keep_input=True, random_seed=42, **attack_config)\n",
    "    wrapped_model.reset()\n",
    "\n",
    "    original_output = wrapped_model.generate(sent, keep_input=True, random_seed=42, **attack_config)\n",
    "\n",
    "    # print(\"behavior:\", sent)\n",
    "    # print(\"harmless jailbreak:\", outputs)\n",
    "    # print(\"Original Output: \", original_output)\n",
    "    with open(\"../output/baselines/malicious_control_repevec7b05.jsonl\", 'a') as f:\n",
    "        f.write(json.dumps({\n",
    "            \"coeff\": coeff,\n",
    "            \"original_output\": original_output,\n",
    "            \"controlled\": outputs,\n",
    "        })+\"\\n\")\n",
    "    # break\n"
   ]
  },
  {
   "cell_type": "code",
   "execution_count": null,
   "metadata": {},
   "outputs": [],
   "source": []
  }
 ],
 "metadata": {
  "kernelspec": {
   "display_name": "explanation",
   "language": "python",
   "name": "python3"
  },
  "language_info": {
   "codemirror_mode": {
    "name": "ipython",
    "version": 3
   },
   "file_extension": ".py",
   "mimetype": "text/x-python",
   "name": "python",
   "nbconvert_exporter": "python",
   "pygments_lexer": "ipython3",
   "version": "3.9.18"
  }
 },
 "nbformat": 4,
 "nbformat_minor": 2
}
